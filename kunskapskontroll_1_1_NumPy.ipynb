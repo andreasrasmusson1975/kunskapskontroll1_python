{
 "cells": [
  {
   "cell_type": "markdown",
   "id": "dacf74e6",
   "metadata": {},
   "source": [
    "# NumPy"
   ]
  },
  {
   "cell_type": "markdown",
   "id": "01b2bf34",
   "metadata": {},
   "source": [
    "Read the links: https://numpy.org/doc/stable/user/quickstart.html  and https://numpy.org/doc/stable/user/basics.broadcasting.html  before solving the exercises. "
   ]
  },
  {
   "cell_type": "code",
   "execution_count": 1,
   "id": "1f79e4a6",
   "metadata": {},
   "outputs": [],
   "source": [
    "import numpy as np"
   ]
  },
  {
   "cell_type": "markdown",
   "id": "7dae6889",
   "metadata": {},
   "source": [
    "### Print out the dimension (number of axes), shape, size and the datatype of the matrix A."
   ]
  },
  {
   "cell_type": "code",
   "execution_count": 2,
   "id": "7b3678cd",
   "metadata": {},
   "outputs": [],
   "source": [
    "A = np.arange(1, 16).reshape(3,5)"
   ]
  },
  {
   "cell_type": "code",
   "execution_count": 3,
   "id": "31d39235",
   "metadata": {},
   "outputs": [
    {
     "name": "stdout",
     "output_type": "stream",
     "text": [
      "dimension: 2\n",
      "shape: (3, 5)\n",
      "size: 15\n",
      "datatype: int32\n"
     ]
    }
   ],
   "source": [
    "print(f'dimension: {A.ndim}')\n",
    "print(f'shape: {A.shape}')\n",
    "print(f'size: {A.size}')\n",
    "print(f'datatype: {A.dtype}')"
   ]
  },
  {
   "cell_type": "markdown",
   "id": "e56d2a96",
   "metadata": {},
   "source": [
    "### Do the following computations on the matrices B and C: \n",
    "* Elementwise subtraction. \n",
    "* Elementwise multiplication. \n",
    "* Matrix multiplication (by default you should use the @ operator)."
   ]
  },
  {
   "cell_type": "code",
   "execution_count": 4,
   "id": "a7053fbb",
   "metadata": {},
   "outputs": [
    {
     "name": "stdout",
     "output_type": "stream",
     "text": [
      "[[1 2 3]\n",
      " [4 5 6]\n",
      " [7 8 9]]\n",
      "\n",
      "[[2. 2. 2.]\n",
      " [2. 2. 2.]\n",
      " [2. 2. 2.]]\n"
     ]
    }
   ],
   "source": [
    "B = np.arange(1, 10).reshape(3, 3)\n",
    "C = np.ones((3, 3))*2\n",
    "\n",
    "print(B)\n",
    "print()\n",
    "print(C)"
   ]
  },
  {
   "cell_type": "code",
   "execution_count": 5,
   "id": "3cd794ae",
   "metadata": {},
   "outputs": [
    {
     "name": "stdout",
     "output_type": "stream",
     "text": [
      "Elementwise subtraction:\n",
      "\n",
      "[[-1.  0.  1.]\n",
      " [ 2.  3.  4.]\n",
      " [ 5.  6.  7.]]\n",
      "\n",
      "Elementwise multiplication:\n",
      "\n",
      " [[ 2.  4.  6.]\n",
      " [ 8. 10. 12.]\n",
      " [14. 16. 18.]]\n",
      "\n",
      "Matrix multiplication:\n",
      "\n",
      "[[12. 12. 12.]\n",
      " [30. 30. 30.]\n",
      " [48. 48. 48.]]\n"
     ]
    }
   ],
   "source": [
    "print(f'Elementwise subtraction:\\n\\n{B-C}')\n",
    "print(f'\\nElementwise multiplication:\\n\\n {B*C}')\n",
    "print(f'\\nMatrix multiplication:\\n\\n{B@C}')"
   ]
  },
  {
   "cell_type": "markdown",
   "id": "96030d53",
   "metadata": {},
   "source": [
    "### Do the following calculations on the matrix:\n",
    "* Exponentiate each number elementwise (use the np.exp function).\n",
    "\n",
    "* Calculate the minimum value in the whole matrix. \n",
    "* Calculcate the minimum value in each row. \n",
    "* Calculcate the minimum value in each column. \n",
    "\n",
    "\n",
    "* Find the index value for the minimum value in the whole matrix (hint: use np.argmin).\n",
    "* Find the index value for the minimum value in each row (hint: use np.argmin).\n",
    "\n",
    "\n",
    "* Calculate the sum for all elements.\n",
    "* Calculate the mean for each column. \n",
    "* Calculate the median for each column. "
   ]
  },
  {
   "cell_type": "code",
   "execution_count": 6,
   "id": "f8a9166b",
   "metadata": {},
   "outputs": [
    {
     "name": "stdout",
     "output_type": "stream",
     "text": [
      "[[1 2 3]\n",
      " [4 5 6]\n",
      " [7 8 9]]\n"
     ]
    }
   ],
   "source": [
    "B = np.arange(1, 10).reshape(3, 3)\n",
    "print(B)"
   ]
  },
  {
   "cell_type": "code",
   "execution_count": 7,
   "id": "f03f24f7",
   "metadata": {},
   "outputs": [
    {
     "name": "stdout",
     "output_type": "stream",
     "text": [
      "Elementwise exponentiation:\n",
      "\n",
      "[[2.71828183e+00 7.38905610e+00 2.00855369e+01]\n",
      " [5.45981500e+01 1.48413159e+02 4.03428793e+02]\n",
      " [1.09663316e+03 2.98095799e+03 8.10308393e+03]]\n",
      "\n",
      "Minimum value:\n",
      "\n",
      "1\n",
      "\n",
      "Minimum value in each row:\n",
      "\n",
      "[1 4 7]\n",
      "\n",
      "Minimum value in each column:\n",
      "\n",
      "[1 2 3]\n",
      "\n",
      "Index value for the minimum element:\n",
      "\n",
      "[[0]]\n",
      "\n",
      "Index value for the minimum value in each row:\n",
      "\n",
      "[[0]\n",
      " [0]\n",
      " [0]]\n",
      "\n",
      "Sum of all elements:\n",
      "\n",
      "45\n",
      "\n",
      "Mean for each column:\n",
      "\n",
      "[4. 5. 6.]\n",
      "Median for each column:\n",
      "\n",
      "[4. 5. 6.]\n"
     ]
    }
   ],
   "source": [
    "print(f'Elementwise exponentiation:\\n\\n{np.exp(B)}')\n",
    "print(f'\\nMinimum value:\\n\\n{np.amin(B)}')\n",
    "print(f'\\nMinimum value in each row:\\n\\n{np.amin(B,axis=1)}')\n",
    "print(f'\\nMinimum value in each column:\\n\\n{np.amin(B,axis=0)}')\n",
    "print(f'\\nIndex value for the minimum element:\\n\\n{np.argmin(B,keepdims=True)}')\n",
    "print(f'\\nIndex value for the minimum value in each row:\\n\\n{np.argmin(B,axis=1,keepdims=True)}')\n",
    "print(f'\\nSum of all elements:\\n\\n{np.sum(B)}')\n",
    "print(f'\\nMean for each column:\\n\\n{np.mean(B,axis=0)}')\n",
    "print(f'Median for each column:\\n\\n{np.median(B,axis=0)}')"
   ]
  },
  {
   "cell_type": "markdown",
   "id": "541eb7ba",
   "metadata": {},
   "source": [
    "### What does it mean when you provide fewer indices than axes when slicing? See example below."
   ]
  },
  {
   "cell_type": "code",
   "execution_count": 8,
   "id": "9c8abf56",
   "metadata": {},
   "outputs": [
    {
     "name": "stdout",
     "output_type": "stream",
     "text": [
      "[[ 1  2  3  4  5]\n",
      " [ 6  7  8  9 10]\n",
      " [11 12 13 14 15]]\n"
     ]
    }
   ],
   "source": [
    "print(A)"
   ]
  },
  {
   "cell_type": "code",
   "execution_count": 9,
   "id": "69415f7b",
   "metadata": {},
   "outputs": [
    {
     "data": {
      "text/plain": [
       "array([ 6,  7,  8,  9, 10])"
      ]
     },
     "execution_count": 9,
     "metadata": {},
     "output_type": "execute_result"
    }
   ],
   "source": [
    "A[1]"
   ]
  },
  {
   "cell_type": "markdown",
   "id": "6c53541b",
   "metadata": {},
   "source": [
    "**Answer:**"
   ]
  },
  {
   "cell_type": "markdown",
   "id": "de01e120",
   "metadata": {},
   "source": [
    "The missing indices are considered complete slices. In this case, the only index specified is 1, which refers to the second row. The missing index is the column index and so 1 is considered the full second row."
   ]
  },
  {
   "cell_type": "markdown",
   "id": "6652d0c9",
   "metadata": {},
   "source": [
    "### Iterating over multidimensional arrays is done with respect to the first axis, so in the example below we iterate trough the rows. If you would like to iterate through the array *elementwise*, how would you do that?"
   ]
  },
  {
   "cell_type": "code",
   "execution_count": 10,
   "id": "9459864f",
   "metadata": {},
   "outputs": [
    {
     "data": {
      "text/plain": [
       "array([[ 1,  2,  3,  4,  5],\n",
       "       [ 6,  7,  8,  9, 10],\n",
       "       [11, 12, 13, 14, 15]])"
      ]
     },
     "execution_count": 10,
     "metadata": {},
     "output_type": "execute_result"
    }
   ],
   "source": [
    "A"
   ]
  },
  {
   "cell_type": "code",
   "execution_count": 11,
   "id": "a671bb5a",
   "metadata": {},
   "outputs": [
    {
     "name": "stdout",
     "output_type": "stream",
     "text": [
      "[1 2 3 4 5]\n",
      "[ 6  7  8  9 10]\n",
      "[11 12 13 14 15]\n"
     ]
    }
   ],
   "source": [
    "for i in A:\n",
    "    print(i)"
   ]
  },
  {
   "cell_type": "code",
   "execution_count": 12,
   "id": "f4e443a0",
   "metadata": {},
   "outputs": [
    {
     "name": "stdout",
     "output_type": "stream",
     "text": [
      "1\n",
      "2\n",
      "3\n",
      "4\n",
      "5\n",
      "6\n",
      "7\n",
      "8\n",
      "9\n",
      "10\n",
      "11\n",
      "12\n",
      "13\n",
      "14\n",
      "15\n"
     ]
    }
   ],
   "source": [
    "for i in A.flat:\n",
    "    print(i)"
   ]
  },
  {
   "cell_type": "markdown",
   "id": "608a2583",
   "metadata": {},
   "source": [
    "### Explain what the code below does. More specifically, b has three axes - what does this mean? "
   ]
  },
  {
   "cell_type": "code",
   "execution_count": 13,
   "id": "f8f9b26f",
   "metadata": {},
   "outputs": [
    {
     "name": "stdout",
     "output_type": "stream",
     "text": [
      "[ 0  1  2  3  4  5  6  7  8  9 10 11 12 13 14 15 16 17 18 19 20 21 22 23\n",
      " 24 25 26 27 28 29]\n",
      "\n",
      "[[[ 0  1  2  3  4]\n",
      "  [ 5  6  7  8  9]\n",
      "  [10 11 12 13 14]]\n",
      "\n",
      " [[15 16 17 18 19]\n",
      "  [20 21 22 23 24]\n",
      "  [25 26 27 28 29]]]\n"
     ]
    }
   ],
   "source": [
    "a = np.arange(30)\n",
    "b = a.reshape((2, 3, -1))\n",
    "print(a)\n",
    "print()\n",
    "\n",
    "print(b)"
   ]
  },
  {
   "cell_type": "markdown",
   "id": "863a45df",
   "metadata": {},
   "source": [
    "#### a=np.arange(30): \n",
    "a points to a 1-dimensional array with all elements in the range from 0 up to and including 29. \n",
    "\n",
    "### b=a.reshape((2,3,-1)):\n",
    "b points to the array transformed from the array a by reshaping it to a 3-dimensional array. The -1 is a way of having numpy automatically calculate the third dimension. \n",
    "\n",
    "Since b must accomodate 30 elements, the third dimension must be 5 and so we end up with an array of shape (2,3,5)"
   ]
  },
  {
   "cell_type": "markdown",
   "id": "ab5933d5",
   "metadata": {},
   "source": [
    "### Broadcasting\n",
    "**Read the following link about broadcasting: https://numpy.org/doc/stable/user/basics.broadcasting.html#basics-broadcasting**"
   ]
  },
  {
   "cell_type": "markdown",
   "id": "039805ba",
   "metadata": {},
   "source": [
    "# Remark on Broadcasting when doing Linear Algebra calculations in Python. "
   ]
  },
  {
   "cell_type": "markdown",
   "id": "c4bcc147",
   "metadata": {},
   "source": [
    "### From the mathematical rules of matrix addition, the operation below (m1 + m2) does not make sense. The reason is that matrix addition requires two matrices of the same size. In Python however, it works due to broadcasting rules in NumPy. So you must be careful when doing Linear Algebra calculations in Python since they do not follow the \"mathematical rules\". This can however easily be handled by doing some simple programming, for example validating that two matrices have the same shape is easy if you for instance want to add two matrices. "
   ]
  },
  {
   "cell_type": "code",
   "execution_count": 14,
   "id": "1fd46778",
   "metadata": {},
   "outputs": [
    {
     "name": "stdout",
     "output_type": "stream",
     "text": [
      "[[2 3]\n",
      " [4 5]]\n"
     ]
    }
   ],
   "source": [
    "m1 = np.array([[1, 2], [3, 4]])\n",
    "m2 = np.array([1, 1])\n",
    "print(m1 + m2)"
   ]
  },
  {
   "cell_type": "markdown",
   "id": "047d6576",
   "metadata": {},
   "source": [
    "### The example below would also not be allowed if following the \"mathematical rules\" in Linear Algebra. But it works due to broadcasting in NumPy. "
   ]
  },
  {
   "cell_type": "code",
   "execution_count": 15,
   "id": "5e6ef2e4",
   "metadata": {},
   "outputs": [
    {
     "name": "stdout",
     "output_type": "stream",
     "text": [
      "[2 3 4]\n"
     ]
    }
   ],
   "source": [
    "v1 = np.array([1, 2, 3])\n",
    "print(v1 + 1)"
   ]
  },
  {
   "cell_type": "code",
   "execution_count": 16,
   "id": "e2cbae26",
   "metadata": {},
   "outputs": [
    {
     "name": "stdout",
     "output_type": "stream",
     "text": [
      "[[1 2]\n",
      " [3 4]]\n",
      "[2 2]\n"
     ]
    }
   ],
   "source": [
    "A = np.arange(1, 5).reshape(2,2)\n",
    "print(A)\n",
    "\n",
    "b = np.array([2, 2])\n",
    "print(b)"
   ]
  },
  {
   "cell_type": "markdown",
   "id": "722fd5cd",
   "metadata": {},
   "source": [
    "# Vector- and matrix algebra Exercises"
   ]
  },
  {
   "cell_type": "markdown",
   "id": "b63a3081-d976-4d9f-bfd0-a63917e79f7d",
   "metadata": {},
   "source": [
    "**Now you are going to create a function that can be reused every time you add or multiply matrices. The function is created so that we do the addition and multiplication according to the rules of vector- and matrix algebra.**\n",
    "\n",
    "**Create a function \"add_mult_matrices\" that takes two matrices as input arguments (validate that the input are of the type numpy.ndarray by using the isinstance function), a third argument that is either 'add' or 'multiply' that specifies if you want to add or multiply the matrices (validate that the third argument is either 'add' or 'multiply'). When doing matrix addition, validate that the matrices have the same size. When doing matrix multiplication, validate that the sizes conform (i.e. number of columns in the first matrix is equal to the number of rows in the second matrix).**"
   ]
  },
  {
   "cell_type": "code",
   "execution_count": 17,
   "id": "3506f977-ac0a-473f-85bc-eec9f35dc498",
   "metadata": {},
   "outputs": [],
   "source": [
    "# For this excercise I am aiming to make the function as \"production ready\"\n",
    "# as I know how to since it's a function that is to be used every time\n",
    "# I add or multiply matrices. Therefore, I use type hints, include a \n",
    "# docstring and use custom Exceptions with informative messages.\n",
    "\n",
    "def add_mult_matrices(A: np.ndarray,B: np.ndarray, which_op: str) -> np.ndarray:\n",
    "    \"\"\" \n",
    "    A function for adding or multiplying matrices.\n",
    "\n",
    "    Args:\n",
    "        A (np.ndarray): The first matrix\n",
    "        B (np.ndarray): The second matrix\n",
    "        which_op (str):  Which operation to apply. Must be either 'add' or 'multiply'\n",
    "\n",
    "    Returns:\n",
    "        np.ndarray: The result of applying which_op to A and B \n",
    "    \n",
    "    \"\"\"\n",
    "    # Custom Exceptions\n",
    "    class FirstOrSecondArgumentNotNdArrayException(Exception):\n",
    "        pass\n",
    "    class ThirdArgumentNotAddOrMultiplyException(Exception):\n",
    "        pass\n",
    "    class ArraysNotSameSizeException(Exception):\n",
    "        pass\n",
    "    class AdditionAndDifferingShapesException(Exception):\n",
    "        pass\n",
    "    class MultiplicationAndNumColsNotMatchingNumRowsException(Exception):\n",
    "        pass\n",
    "    # Validation\n",
    "    if not (isinstance(A,np.ndarray) and isinstance(B,np.ndarray)):\n",
    "        raise FirstOrSecondArgumentNotNdArrayException('Both the first and second arguments must be ndarrays')\n",
    "    elif not (which_op == 'add' or which_op == 'multiply'):\n",
    "        raise ThirdArgumentNotAddOrMultiplyException(\"Third argument must be either 'add' or 'multiply'.\")\n",
    "    elif which_op == 'add' and A.size != B.size:\n",
    "        raise ArraysNotSameSizeException('matrices/vectors must have the same size.')\n",
    "    elif which_op == 'add' and A.shape != B.shape:\n",
    "        raise AdditionAndDifferingShapesException('When adding matrices or vectors, they must have the same dimensions.')\n",
    "    elif which_op == 'multiply' and A.shape[1] != B.shape[0]:\n",
    "        raise MultiplicationAndNumColsNotMatchingNumRowsException('The number of columns in the first matrix must be equal to the number of rows in the second matrix.')\n",
    "    # Hooray, validation passed! On to the actual calculations:\n",
    "    if which_op == 'add':\n",
    "        return A+B\n",
    "    return A@B"
   ]
  },
  {
   "cell_type": "code",
   "execution_count": 18,
   "id": "ef665cd2",
   "metadata": {},
   "outputs": [],
   "source": [
    "# Helper function so we don't have to write try-except constructs in each of the excercises below\n",
    "def safe_add_mult_matrices(A: np.ndarray,B: np.ndarray, which_op: str) -> np.ndarray:\n",
    "    try:\n",
    "        return add_mult_matrices(A,B,which_op)\n",
    "    except Exception as e:\n",
    "        return f'Undefined. Reason: {e}'"
   ]
  },
  {
   "cell_type": "markdown",
   "id": "8dad82d0-2359-4dff-8f5b-a57d3e34103c",
   "metadata": {},
   "source": [
    "### Solve all the exercises in chapter 10.1 in the book \"Matematik för yrkeshögskolan\". "
   ]
  },
  {
   "cell_type": "code",
   "execution_count": 31,
   "id": "89df88af-3668-4d98-a0a4-e6d92eea0f89",
   "metadata": {},
   "outputs": [
    {
     "name": "stdout",
     "output_type": "stream",
     "text": [
      "a) Dimension: 1 x 2\n",
      "b) 5x = [20 15]\n",
      "c) 3x = [12  9]\n",
      "d) 5x + 3x = [32 24]\n",
      "e) 8x = [32 24]\n",
      "f) 4x - x = [12  9]\n",
      "g) x^T =\n",
      "[[4]\n",
      " [3]]\n",
      "g) New dimension: 2 x 1\n",
      "h) x + x^T = Undefined. Reason: When adding matrices or vectors, they must have the same dimensions.\n",
      "i) ||x|| = 5.0\n",
      "i) ||x|| = 5.0\n",
      "i) ||x|| = 5.0\n"
     ]
    }
   ],
   "source": [
    "# 10.1.\n",
    "x=np.array([4,3])\n",
    "# a)\n",
    "print(f'a) Dimension: 1 x {x.shape[0]}')\n",
    "# b)\n",
    "print(f'b) 5x = {5*x}')\n",
    "# c)\n",
    "print(f'c) 3x = {3*x}')\n",
    "# d)\n",
    "print(f\"d) 5x + 3x = {safe_add_mult_matrices(5*x, 3*x, 'add')}\")\n",
    "# e)\n",
    "print(f'e) 8x = {8 * x}')\n",
    "# f)\n",
    "print(f\"f) 4x - x = {safe_add_mult_matrices(4*x, - x, 'add' )}\")\n",
    "# g)\n",
    "y=x.reshape((2,1))\n",
    "print(f'g) x^T =\\n{y}')\n",
    "print(f'g) New dimension: {y.shape[0]} x {y.shape[1]}')\n",
    "# h)\n",
    "print(f\"h) x + x^T = {safe_add_mult_matrices(x, y, 'add')}\")\n",
    "# i) Solve it in a few ways here.\n",
    "print(f'i) ||x|| = {np.linalg.norm(x)}')\n",
    "print(f\"i) ||x|| = {np.sqrt(safe_add_mult_matrices(x.reshape(1,2),x.reshape(2,1),'multiply').flat[0])}\")\n",
    "print(f'i) ||x|| = {np.sqrt(np.sum(x**2))}')\n"
   ]
  },
  {
   "cell_type": "code",
   "execution_count": 20,
   "id": "6db3520d",
   "metadata": {},
   "outputs": [
    {
     "name": "stdout",
     "output_type": "stream",
     "text": [
      "a) Dimension: 4 x 1\n",
      "b) 2v =\n",
      "[[ 6]\n",
      " [14]\n",
      " [ 0]\n",
      " [22]]\n",
      "c) 5v + 2v =\n",
      "[[21]\n",
      " [49]\n",
      " [ 0]\n",
      " [77]]\n",
      "d) 4v - 2v =\n",
      "[[ 6]\n",
      " [14]\n",
      " [ 0]\n",
      " [22]]\n",
      "e) v^T = [ 3  7  0 11]\n",
      "Dimension: 1 x 4\n",
      "f) ||v|| = 13.379088160259652\n",
      "f) ||v|| = 13.379088160259652\n",
      "f) ||v| = 13.379088160259652\n"
     ]
    }
   ],
   "source": [
    "# 10.1.2\n",
    "v=np.array([[3],[7],[0],[11]])\n",
    "# a)\n",
    "print(f'a) Dimension: {v.shape[0]} x {v.shape[1]}')\n",
    "# b)\n",
    "print(f'b) 2v =\\n{2*v}')\n",
    "# c)\n",
    "print(f\"c) 5v + 2v =\\n{safe_add_mult_matrices(5*v,2*v,'add')}\")\n",
    "# d)\n",
    "print(f\"d) 4v - 2v =\\n{safe_add_mult_matrices(4*v,-2*v,'add')}\")\n",
    "# e)\n",
    "print(f'e) v^T = {v.T.reshape(-1)}')\n",
    "print(f'Dimension: {v.T.shape[0]} x {v.T.shape[1]}')\n",
    "# f) Solve it in a few ways here\n",
    "print(f'f) ||v|| = {np.linalg.norm(v)}')\n",
    "print(f\"f) ||v|| = {np.sqrt(safe_add_mult_matrices(v.reshape(1,4),v,'multiply').flat[0])}\")\n",
    "print(f'f) ||v| = {np.sqrt(np.sum(v**2))}')\n"
   ]
  },
  {
   "cell_type": "code",
   "execution_count": 21,
   "id": "86cd08f8",
   "metadata": {},
   "outputs": [
    {
     "name": "stdout",
     "output_type": "stream",
     "text": [
      "a) ||v1|| = 7.14142842854285\n",
      "a) ||v1|| = 7.14142842854285\n",
      "a) ||v1|| = 7.14142842854285\n",
      "b) ||v1 - v2|| = 4.47213595499958\n",
      "b) ||v1 - v2|| = 4.47213595499958\n",
      "b) ||v1 - v2|| = 4.47213595499958\n"
     ]
    }
   ],
   "source": [
    "# 10.1.3\n",
    "v1=np.array([4,3,1,5])\n",
    "v2=np.array([2,3,1,1])\n",
    "\n",
    "#a)\n",
    "print(f'a) ||v1|| = {np.linalg.norm(v1)}')\n",
    "print(f\"a) ||v1|| = {np.sqrt(safe_add_mult_matrices(v1.reshape(1,4),v1.reshape(4,1),'multiply').flat[0])}\")\n",
    "print(f'a) ||v1|| = {np.sqrt(np.sum(v1**2))}')\n",
    "# b)\n",
    "print(f'b) ||v1 - v2|| = {np.linalg.norm(v1 - v2)}')\n",
    "print(f\"b) ||v1 - v2|| = {np.sqrt(safe_add_mult_matrices((v1-v2).reshape(1,4),(v1-v2).reshape(4,1),'multiply').flat[0])}\")\n",
    "print(f'b) ||v1 - v2|| = {np.sqrt(np.sum((v1-v2)**2))}')"
   ]
  },
  {
   "cell_type": "markdown",
   "id": "75c98984-1f88-4df1-b850-d2466de444a5",
   "metadata": {},
   "source": [
    "### Solve all the exercises, except 10.2.4, in chapter 10.2 in the book \"Matematik för yrkeshögskolan\". "
   ]
  },
  {
   "cell_type": "code",
   "execution_count": 22,
   "id": "65371610-16e1-48b2-b7fb-65e49002608a",
   "metadata": {},
   "outputs": [
    {
     "name": "stdout",
     "output_type": "stream",
     "text": [
      "a) 2A =\n",
      "[[ 4  2 -2]\n",
      " [ 2 -2  2]]\n",
      "\n",
      "b) B-2A =\n",
      "[[ 0 -4  3]\n",
      " [ 0 -2 -4]]\n",
      "\n",
      "c) 3C-2E =\n",
      "Undefined. Reason: matrices/vectors must have the same size.\n",
      "\n",
      "d) 2D - 3C =\n",
      "[[3 2]\n",
      " [2 3]]\n",
      "\n",
      "e) D^T+2D =\n",
      "[[ 9 12]\n",
      " [12  9]]\n",
      "\n",
      "f) 2C^T - 2D^T =\n",
      "[[-4 -4]\n",
      " [-4 -4]]\n",
      "\n",
      "g) A^T - B =\n",
      "Undefined. Reason: When adding matrices or vectors, they must have the same dimensions.\n",
      "\n",
      "h) AC = \n",
      "Undefined. Reason: The number of columns in the first matrix must be equal to the number of rows in the second matrix.\n",
      "\n",
      "i) CD =\n",
      "[[11 10]\n",
      " [10 11]]\n",
      "\n",
      "j) CB =\n",
      "[[  8 -10  -3]\n",
      " [ 10  -8   0]]\n",
      "\n",
      "k) CI =\n",
      "[[1 2]\n",
      " [2 1]]\n",
      "\n",
      "l) AB^T =\n",
      "[[5 2]\n",
      " [7 4]]\n"
     ]
    }
   ],
   "source": [
    "# 10.2.1\n",
    "A=np.array([[2,1,-1],[1,-1,1]])\n",
    "B=np.array([[4,-2,1],[2,-4,-2]])\n",
    "C=np.array([[1,2],[2,1]])\n",
    "D=np.array([[3,4],[4,3]])\n",
    "E=np.array([[1],[2]])\n",
    "I=np.array([[1,0],[0,1]])\n",
    "\n",
    "# a)\n",
    "print(f'a) 2A =\\n{2*A}\\n')\n",
    "# b)\n",
    "print(f\"b) B-2A =\\n{safe_add_mult_matrices(B, -2*A, 'add')}\\n\")\n",
    "# c)\n",
    "print(f\"c) 3C-2E =\\n{safe_add_mult_matrices(3*C, -2*E, 'add')}\\n\")\n",
    "# d)\n",
    "print(f\"d) 2D - 3C =\\n{safe_add_mult_matrices(2*D, -3*C, 'add')}\\n\")\n",
    "# e)\n",
    "print(f\"e) D^T+2D =\\n{safe_add_mult_matrices(D.T, 2*D, 'add')}\\n\")\n",
    "# f)\n",
    "print(f\"f) 2C^T - 2D^T =\\n{safe_add_mult_matrices(2*C.T,-2*D.T,'add')}\\n\")\n",
    "# g)\n",
    "print(f\"g) A^T - B =\\n{safe_add_mult_matrices(A.T, -B, 'add')}\\n\")\n",
    "# h)\n",
    "print(f\"h) AC = \\n{safe_add_mult_matrices(A,C,'multiply')}\\n\")\n",
    "# i)\n",
    "print(f\"i) CD =\\n{safe_add_mult_matrices(C,D,'multiply')}\\n\")\n",
    "# j)\n",
    "print(f\"j) CB =\\n{safe_add_mult_matrices(C,B,'multiply')}\\n\")\n",
    "# k)\n",
    "print(f\"k) CI =\\n{safe_add_mult_matrices(C,I,'multiply')}\\n\")\n",
    "# l)\n",
    "print(f\"l) AB^T =\\n{safe_add_mult_matrices(A,B.T,'multiply')}\")\n"
   ]
  },
  {
   "cell_type": "code",
   "execution_count": 23,
   "id": "7e6aa322",
   "metadata": {},
   "outputs": [
    {
     "name": "stdout",
     "output_type": "stream",
     "text": [
      "AA^T =\n",
      "[[29 26]\n",
      " [26 42]]\n"
     ]
    }
   ],
   "source": [
    "# 10.2.2\n",
    "\n",
    "A=np.array([[2,3,4],[5,4,1]])\n",
    "print(f\"AA^T =\\n{safe_add_mult_matrices(A,A.T,'multiply')}\")"
   ]
  },
  {
   "cell_type": "code",
   "execution_count": 24,
   "id": "573dca40",
   "metadata": {},
   "outputs": [
    {
     "name": "stdout",
     "output_type": "stream",
     "text": [
      "AB = AC: True\n",
      "B = C: False\n"
     ]
    }
   ],
   "source": [
    "# 10.2.3 \n",
    "\n",
    "A,B,C=np.array([[1,2],[2,4]]), np.array([[2,1],[1,3]]), np.array([[4,3],[0,2]])\n",
    "print(f\"AB = AC: {bool(np.prod(safe_add_mult_matrices(A,B,'multiply').__eq__(safe_add_mult_matrices(A,C,'multiply'))))}\")\n",
    "print(f\"B = C: {bool(np.prod(B.__eq__(C)))}\")"
   ]
  },
  {
   "cell_type": "markdown",
   "id": "6a4a524f",
   "metadata": {},
   "source": [
    "### Copies and Views\n",
    "Read the following link: https://numpy.org/doc/stable/user/basics.copies.html"
   ]
  },
  {
   "cell_type": "markdown",
   "id": "6cbbeaf7",
   "metadata": {},
   "source": [
    "**Basic indexing creates a view, How can you check if v1 and v2 is a view or copy? If you change the last element in v2 to 123, will the last element in v1 be changed? Why?**"
   ]
  },
  {
   "cell_type": "code",
   "execution_count": 25,
   "id": "5b9ef4df",
   "metadata": {},
   "outputs": [
    {
     "name": "stdout",
     "output_type": "stream",
     "text": [
      "[0 1 2 3]\n",
      "[2 3]\n"
     ]
    }
   ],
   "source": [
    "v1 = np.arange(4)\n",
    "v2 = v1[-2:]\n",
    "print(v1)\n",
    "print(v2)"
   ]
  },
  {
   "cell_type": "code",
   "execution_count": 26,
   "id": "d2440489",
   "metadata": {},
   "outputs": [
    {
     "name": "stdout",
     "output_type": "stream",
     "text": [
      "None\n",
      "[0 1 2 3]\n"
     ]
    }
   ],
   "source": [
    "# The base attribute of a view returns the original array while it returns None for a copy.\n",
    "print(v1.base)\n",
    "print(v2.base)"
   ]
  },
  {
   "cell_type": "code",
   "execution_count": 27,
   "id": "c8752807",
   "metadata": {},
   "outputs": [
    {
     "name": "stdout",
     "output_type": "stream",
     "text": [
      "[  0   1   2 123]\n",
      "[  2 123]\n"
     ]
    }
   ],
   "source": [
    "# The last element in v1 will be changed aswell since v2 is a view, meaning they share the same data buffer.\n",
    "v2[-1] = 123\n",
    "print(v1)\n",
    "print(v2)"
   ]
  },
  {
   "cell_type": "code",
   "execution_count": 28,
   "id": "3dd68221",
   "metadata": {},
   "outputs": [
    {
     "name": "stdout",
     "output_type": "stream",
     "text": [
      "v1: [0 1 2 3]\n",
      "v2: [2 3]\n",
      "v1 is a copy\n",
      "v2 is a view\n",
      "v1 after changing v2: [  0   1   2 123]\n"
     ]
    }
   ],
   "source": [
    "# My solution:\n",
    "\n",
    "v1 = np.arange(4)\n",
    "v2 = v1[-2:]\n",
    "print(f'v1: {v1}')\n",
    "print(f'v2: {v2}')\n",
    "# I can check if v1 and v2 is a copy or view, using the base attribute, which returns None for a copy and the original array for a view, as follows:\n",
    "print(f\"v1 is a {'copy'if v1.base is None else 'view'}\")\n",
    "print(f\"v2 is a {'copy'if v2.base is None else 'view'}\")\n",
    "\n",
    "# Having established that v2 is a view, we know that the element in v1 will be changed as well, since v2 then has the same buffer as v1:\n",
    "v2[-1]=123\n",
    "print(f'v1 after changing v2: {v1}')\n"
   ]
  }
 ],
 "metadata": {
  "kernelspec": {
   "display_name": "data_science",
   "language": "python",
   "name": "python3"
  },
  "language_info": {
   "codemirror_mode": {
    "name": "ipython",
    "version": 3
   },
   "file_extension": ".py",
   "mimetype": "text/x-python",
   "name": "python",
   "nbconvert_exporter": "python",
   "pygments_lexer": "ipython3",
   "version": "3.8.19"
  }
 },
 "nbformat": 4,
 "nbformat_minor": 5
}
